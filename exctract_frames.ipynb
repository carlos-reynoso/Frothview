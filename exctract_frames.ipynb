{
 "cells": [
  {
   "cell_type": "markdown",
   "metadata": {},
   "source": [
    "Extracción de frames del video especificado"
   ]
  },
  {
   "cell_type": "code",
   "execution_count": 2,
   "metadata": {},
   "outputs": [],
   "source": [
    "# Opens the Video file\n",
    "import cv2\n",
    "import os\n",
    "\n",
    "os.mkdir('data') # crea la carpeta data\n",
    "\n",
    "video='video' # nombre del video\n",
    "cap= cv2.VideoCapture(video+'.mp4')\n",
    "i=0 \n",
    "while(cap.isOpened()): # guarda los frames del video en la carpeta data\n",
    "    ret, frame = cap.read() \n",
    "    if ret == False: \n",
    "        break   \n",
    "    cv2.imwrite('data/'+str(i)+'.jpg',frame) \n",
    "    i+=1\n",
    " \n",
    "cap.release()\n",
    "cv2.destroyAllWindows()"
   ]
  }
 ],
 "metadata": {
  "interpreter": {
   "hash": "cfcc895b05945b434b2c3bae9215e7d592e97200f0016caf3fee7755ac750d85"
  },
  "kernelspec": {
   "display_name": "Python 3.9.6 64-bit",
   "language": "python",
   "name": "python3"
  },
  "language_info": {
   "codemirror_mode": {
    "name": "ipython",
    "version": 3
   },
   "file_extension": ".py",
   "mimetype": "text/x-python",
   "name": "python",
   "nbconvert_exporter": "python",
   "pygments_lexer": "ipython3",
   "version": "3.9.6"
  },
  "orig_nbformat": 4
 },
 "nbformat": 4,
 "nbformat_minor": 2
}
