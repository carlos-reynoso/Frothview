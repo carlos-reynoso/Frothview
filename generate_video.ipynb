{
 "cells": [
  {
   "cell_type": "markdown",
   "metadata": {},
   "source": [
    "Generar video a aprtir de las imagenes procesadas"
   ]
  },
  {
   "cell_type": "code",
   "execution_count": 1,
   "metadata": {},
   "outputs": [],
   "source": [
    "# importando bibliotecas\n",
    "import cv2\n",
    "import numpy as np\n",
    "import os\n",
    "import sys"
   ]
  },
  {
   "cell_type": "code",
   "execution_count": 2,
   "metadata": {},
   "outputs": [],
   "source": [
    "files=np.array([]) #array para almacenar los nombres de los archivos\n",
    "\n",
    "for file_ in os.listdir('data'): #ciclo para obtener los nombres de los archivos\n",
    "    file_int=int(file_[:-4]) \n",
    "    files=np.append(files,file_int)"
   ]
  },
  {
   "cell_type": "code",
   "execution_count": 3,
   "metadata": {},
   "outputs": [],
   "source": [
    "files=np.sort(files) #ordenar los nombres de los archivos"
   ]
  },
  {
   "cell_type": "code",
   "execution_count": 4,
   "metadata": {},
   "outputs": [],
   "source": [
    "files_final=np.array([]) #array para almacenar los nombres de los archivos con la extensión .jpg\n",
    "for i in range(len(files)): #ciclo para obtener los nombres de los archivos con la extensión .jpg\n",
    "    files_final=np.append(files_final,str(files[i])[:-2]+'.jpg')"
   ]
  },
  {
   "cell_type": "code",
   "execution_count": 13,
   "metadata": {
    "tags": []
   },
   "outputs": [
    {
     "name": "stdout",
     "output_type": "stream",
     "text": [
      "Cargando: 100.0% completado\n",
      "Cargado completo.\n"
     ]
    },
    {
     "data": {
      "text/plain": [
       "19"
      ]
     },
     "execution_count": 13,
     "metadata": {},
     "output_type": "execute_result"
    }
   ],
   "source": [
    "im_array_list=[] #array para almacenar las imágenes\n",
    "for i in range(len(files_final)): #ciclo para obtener las imágenes\n",
    "    im_array=cv2.imread('folder_results/'+files_final[i])\n",
    "    im_array_list.append(im_array)\n",
    "\n",
    "    progress = 100 * (i + 1) / len(files_final)  # (i + 1) to account for the 0-index\n",
    "    sys.stdout.write(f\"\\rCargando: {np.round(progress, 2)}% completado\")\n",
    "    sys.stdout.flush()  \n",
    "sys.stdout.write(\"\\nCargado completo.\\n\")"
   ]
  },
  {
   "cell_type": "code",
   "execution_count": 14,
   "metadata": {},
   "outputs": [
    {
     "name": "stdout",
     "output_type": "stream",
     "text": [
      "Progreso: 100.00% completado\n",
      "Video creado.\n"
     ]
    }
   ],
   "source": [
    "height, width, layers = im_array_list[0].shape #obtener el tamaño de las imágenes\n",
    "size = (width,height) #tamaño de las imágenes\n",
    "out = cv2.VideoWriter('video_final.mp4',cv2.VideoWriter_fourcc(*'DIVX'), 5, size) #crear el video\n",
    "total_images = len(im_array_list)  # Total number of images\n",
    "\n",
    "\n",
    "for i in range(len(im_array_list)): #ciclo para agregar las imágenes al video\n",
    "    out.write(im_array_list[i])\n",
    "    progress = 100 * (i + 1) / total_images\n",
    "    sys.stdout.write(f\"\\rProgreso: {progress:.2f}% completado\")\n",
    "    sys.stdout.flush()\n",
    "\n",
    "out.release() \n",
    "\n",
    "sys.stdout.write(\"\\nVideo creado.\\n\")\n",
    "\n",
    "out.release()"
   ]
  }
 ],
 "metadata": {
  "interpreter": {
   "hash": "cfb7d44ed915ea5f9e35255080baf94c6f7a9655dcf4f11c095c12e064593367"
  },
  "kernelspec": {
   "display_name": "Python 3.7.9 64-bit ('data_science': conda)",
   "language": "python",
   "name": "python3"
  },
  "language_info": {
   "codemirror_mode": {
    "name": "ipython",
    "version": 3
   },
   "file_extension": ".py",
   "mimetype": "text/x-python",
   "name": "python",
   "nbconvert_exporter": "python",
   "pygments_lexer": "ipython3",
   "version": "3.10.11"
  },
  "orig_nbformat": 2
 },
 "nbformat": 4,
 "nbformat_minor": 2
}
